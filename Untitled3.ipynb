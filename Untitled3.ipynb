{
  "nbformat": 4,
  "nbformat_minor": 0,
  "metadata": {
    "colab": {
      "provenance": [],
      "authorship_tag": "ABX9TyO9Ti9hUSroCMv6lH4n9vD6",
      "include_colab_link": true
    },
    "kernelspec": {
      "name": "python3",
      "display_name": "Python 3"
    },
    "language_info": {
      "name": "python"
    }
  },
  "cells": [
    {
      "cell_type": "markdown",
      "metadata": {
        "id": "view-in-github",
        "colab_type": "text"
      },
      "source": [
        "<a href=\"https://colab.research.google.com/github/Huda-AbuZayed/Prediction-of-Product-Sales/blob/main/Untitled3.ipynb\" target=\"_parent\"><img src=\"https://colab.research.google.com/assets/colab-badge.svg\" alt=\"Open In Colab\"/></a>"
      ]
    },
    {
      "cell_type": "markdown",
      "source": [
        "# Prediction of Product Sales.\n",
        "- Author: Huda J. AbuZayed\n",
        "\n",
        "\n"
      ],
      "metadata": {
        "id": "8_4flkA8xSsu"
      }
    },
    {
      "cell_type": "markdown",
      "source": [
        " ## Project Overview"
      ],
      "metadata": {
        "id": "tyomST5EzG7b"
      }
    },
    {
      "cell_type": "code",
      "source": [],
      "metadata": {
        "id": "jaj4iSo90ZIZ"
      },
      "execution_count": null,
      "outputs": []
    },
    {
      "cell_type": "markdown",
      "source": [
        " ## Load and Inspect Data"
      ],
      "metadata": {
        "id": "opKNoY5CzYu6"
      }
    },
    {
      "cell_type": "code",
      "source": [],
      "metadata": {
        "id": "1piWRx7dzkto"
      },
      "execution_count": null,
      "outputs": []
    },
    {
      "cell_type": "markdown",
      "source": [
        " ## Clean Data"
      ],
      "metadata": {
        "id": "uCVPAu-AzjHJ"
      }
    },
    {
      "cell_type": "code",
      "source": [],
      "metadata": {
        "id": "EUihOzTT0CQx"
      },
      "execution_count": null,
      "outputs": []
    },
    {
      "cell_type": "markdown",
      "source": [
        " ## Exploratory Data Analysis"
      ],
      "metadata": {
        "id": "xO__QXPmz6MO"
      }
    },
    {
      "cell_type": "code",
      "source": [],
      "metadata": {
        "id": "_yAihNeJ0Nsd"
      },
      "execution_count": null,
      "outputs": []
    },
    {
      "cell_type": "markdown",
      "source": [
        " ## Feature Inspection"
      ],
      "metadata": {
        "id": "wk-sOhHk0QTt"
      }
    },
    {
      "cell_type": "code",
      "source": [],
      "metadata": {
        "id": "6k_eKdU30Sze"
      },
      "execution_count": null,
      "outputs": []
    }
  ]
}